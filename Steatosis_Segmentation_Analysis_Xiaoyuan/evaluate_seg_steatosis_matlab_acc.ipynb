{
 "cells": [
  {
   "cell_type": "markdown",
   "metadata": {},
   "source": [
    "Evaluate_seg_steatosis_matlab_acc is used to compute the segmentation accuracy of steatosis in matlab-based methods.\n",
    "The input is different filenames that are used for final testing.\n",
    "The groundtruth data is in /labs/konglab/Xiaoyuan_Completed/Steatosis_All_in_One/data/GT_mask/stage1_test/.\n",
    "The segmentation results of the groundtruth data are stored in /labs/konglab/Xiaoyuan_Completed/Steatosis_All_in_One/data/gt_seg_matlab/mask/."
   ]
  },
  {
   "cell_type": "code",
   "execution_count": 1,
   "metadata": {},
   "outputs": [],
   "source": [
    "import numpy as np\n",
    "import pandas as pd\n",
    "from mrcnn1 import utils\n",
    "import os\n",
    "import sys\n",
    "%matplotlib inline "
   ]
  },
  {
   "cell_type": "code",
   "execution_count": 2,
   "metadata": {},
   "outputs": [],
   "source": [
    "filename = '199_24317_67660_1024'"
   ]
  },
  {
   "cell_type": "code",
   "execution_count": 3,
   "metadata": {},
   "outputs": [],
   "source": [
    "gt_path = '/labs/konglab/Xiaoyuan_Completed/Steatosis_All_in_One/data/GT_mask/stage1_test/'+filename+'/masks/'"
   ]
  },
  {
   "cell_type": "code",
   "execution_count": 4,
   "metadata": {},
   "outputs": [
    {
     "data": {
      "text/plain": [
       "'/labs/konglab/Xiaoyuan_Completed/Steatosis_All_in_One/data/gt_seg_matlab/mask/199_24317_67660_1024_mask/'"
      ]
     },
     "execution_count": 4,
     "metadata": {},
     "output_type": "execute_result"
    }
   ],
   "source": [
    "path = '/labs/konglab/Xiaoyuan_Completed/Steatosis_All_in_One/data/gt_seg_matlab/mask/'+filename+'_mask/'\n",
    "path"
   ]
  },
  {
   "cell_type": "code",
   "execution_count": 5,
   "metadata": {},
   "outputs": [],
   "source": [
    "import skimage\n",
    "mask = []\n",
    "for f in next(os.walk(path))[2]:\n",
    "    if f.endswith(\".png\"):\n",
    "        m = skimage.io.imread(os.path.join(path, f)).astype(np.bool)\n",
    "        m = skimage.color.rgb2gray(m)\n",
    "        mask.append(m)\n",
    "mask = np.stack(mask, axis=-1)"
   ]
  },
  {
   "cell_type": "code",
   "execution_count": 6,
   "metadata": {},
   "outputs": [],
   "source": [
    "import skimage\n",
    "mask_gt = []\n",
    "for f in next(os.walk(gt_path))[2]:\n",
    "    if f.endswith(\".png\"):\n",
    "        m_gt = skimage.io.imread(os.path.join(gt_path, f)).astype(np.bool)\n",
    "        m_gt = skimage.color.rgb2gray(m_gt)\n",
    "        mask_gt.append(m_gt)\n",
    "mask_gt = np.stack(mask_gt, axis=-1)"
   ]
  },
  {
   "cell_type": "code",
   "execution_count": 7,
   "metadata": {},
   "outputs": [
    {
     "data": {
      "text/plain": [
       "(1024, 1024, 36)"
      ]
     },
     "execution_count": 7,
     "metadata": {},
     "output_type": "execute_result"
    }
   ],
   "source": [
    "mylen=len(mask_gt)\n",
    "mask.shape"
   ]
  },
  {
   "cell_type": "code",
   "execution_count": 8,
   "metadata": {},
   "outputs": [],
   "source": [
    "def compute_overlaps_mask(masks1, masks2):\n",
    "    '''Computes IoU overlaps between two sets of masks.\n",
    "    masks1, masks2: [Height, Width, instances]\n",
    "    '''\n",
    "    masks1 = np.reshape(masks1, masks1.shape[-1]*masks1.shape[-1]).astype(np.float32)\n",
    "    masks2 = np.reshape(masks2, masks2.shape[-1]*masks2.shape[-1]).astype(np.float32)\n",
    "    area1 = np.sum(masks1, axis=0)\n",
    "    area2 = np.sum(masks2, axis=0)\n",
    "\n",
    "    # intersections and union\n",
    "    intersections = np.dot(masks1.T, masks2)\n",
    "    union = area1 + area2 - intersections\n",
    "    overlaps = intersections / union\n",
    "      \n",
    "    return overlaps"
   ]
  },
  {
   "cell_type": "code",
   "execution_count": 9,
   "metadata": {},
   "outputs": [],
   "source": [
    "def compute_ap(gt_masks, pred_masks,iou_threshold=0.5):\n",
    "    \"\"\"Compute Average Precision at a set IoU threshold (default 0.5).\n",
    "\n",
    "    Returns:\n",
    "    mAP: Mean Average Precision\n",
    "    precisions: List of precisions at different class score thresholds.\n",
    "    recalls: List of recall values at different class score thresholds.\n",
    "    overlaps: [pred_boxes, gt_boxes] IoU overlaps.\n",
    "    \"\"\"\n",
    "    # Get matches and overlaps\n",
    "    gt_match, pred_match, overlaps = compute_matches(gt_masks, pred_masks,iou_threshold)\n",
    "    print(\"gt_match length is {}\".format(len(gt_match)))\n",
    "\n",
    "    # Compute precision and recall at each prediction box step\n",
    "    precisions = np.cumsum(pred_match > -1) / (np.arange(len(pred_match)) + 1)\n",
    "    recalls = np.cumsum(pred_match > -1).astype(np.float32) / len(gt_match)\n",
    "\n",
    "    # Pad with start and end values to simplify the math\n",
    "    precisions = np.concatenate([[0], precisions, [0]])\n",
    "    recalls = np.concatenate([[0], recalls, [1]])\n",
    "\n",
    "    # Ensure precision values decrease but don't increase. This way, the\n",
    "    # precision value at each recall threshold is the maximum it can be\n",
    "    # for all following recall thresholds, as specified by the VOC paper.\n",
    "    for i in range(len(precisions) - 2, -1, -1):\n",
    "        precisions[i] = np.maximum(precisions[i], precisions[i + 1])\n",
    "\n",
    "    # Compute mean AP over recall range\n",
    "    indices = np.where(recalls[:-1] != recalls[1:])[0] + 1\n",
    "    mAP = np.sum((recalls[indices] - recalls[indices - 1]) *\n",
    "                 precisions[indices])\n",
    "\n",
    "    return mAP, precisions, recalls, overlaps"
   ]
  },
  {
   "cell_type": "code",
   "execution_count": 10,
   "metadata": {},
   "outputs": [],
   "source": [
    "def compute_matches( mask_gt,mask,iou_threshold=0.5):\n",
    "    \"\"\"Finds matches between prediction and ground truth instances.\n",
    "\n",
    "    Returns:\n",
    "        gt_match: 1-D array. For each GT box it has the index of the matched\n",
    "                  predicted box.\n",
    "        pred_match: 1-D array. For each predicted box, it has the index of\n",
    "                    the matched ground truth box.\n",
    "        overlaps: [pred_boxes, gt_boxes] IoU overlaps.\n",
    "    \"\"\"\n",
    "    n= mask.shape[-1]\n",
    "    Overlaps = np.zeros([n,2])\n",
    "    for i in range(0,n):\n",
    "        for j in range(0, mask_gt.shape[-1]):\n",
    "            overlap=compute_overlaps_mask(mask[:,:,i], mask_gt[:,:,j])\n",
    "            if (overlap > Overlaps[i,0]):\n",
    "                Overlaps[i,0] = overlap\n",
    "                Overlaps[i,1] = j \n",
    "\n",
    "    # Loop through predictions and find matching ground truth boxes\n",
    "    match_count = 0\n",
    "    pred_match = -1 * np.ones([mask.shape[-1]])\n",
    "    gt_match = -1 * np.ones([mask_gt.shape[-1]])\n",
    "    if mask_gt.shape[-1] == 0:\n",
    "        return gt_match, pred_match, Overlaps\n",
    "    \n",
    "    for i in range(mask.shape[-1]):\n",
    "        # If we reach IoU smaller than the threshold, end the loop\n",
    "        iou = Overlaps[i,0]\n",
    "        if iou < iou_threshold:\n",
    "                continue\n",
    "        match_count += 1\n",
    "        ind = Overlaps[i,1].astype(np.int64)\n",
    "        gt_match[ind] = i\n",
    "        pred_match[i] = Overlaps[i,1]\n",
    "\n",
    "    return gt_match, pred_match, Overlaps"
   ]
  },
  {
   "cell_type": "code",
   "execution_count": 11,
   "metadata": {},
   "outputs": [
    {
     "name": "stdout",
     "output_type": "stream",
     "text": [
      "gt_match length is 43\n"
     ]
    },
    {
     "data": {
      "text/plain": [
       "(0.69334000001885121,\n",
       " 0.90573819690967383,\n",
       " 0.38984088295776592,\n",
       " 0.69781542672334529)"
      ]
     },
     "execution_count": 11,
     "metadata": {},
     "output_type": "execute_result"
    }
   ],
   "source": [
    "AP, precisions, recalls, OverlapS = compute_ap(mask_gt,mask,iou_threshold=0.5)\n",
    "np.mean(AP), np.mean(precisions), np.mean(recalls),sum(OverlapS[:,0])/len(recalls)"
   ]
  },
  {
   "cell_type": "code",
   "execution_count": 12,
   "metadata": {},
   "outputs": [],
   "source": [
    "import csv\n",
    "import numpy as np\n",
    "evaluation_name='evaluation_seg_matlab_10_2.csv'\n",
    "with open(evaluation_name, 'a') as csvfile:\n",
    "        fieldnames = ['image_id','num','mean_precision','mean_recall','AP','overlaps']\n",
    "        writer = csv.DictWriter(csvfile, fieldnames=fieldnames)\n",
    "        #writer.writeheader()\n",
    "        num = len(recalls)\n",
    "        writer.writerow({'image_id':filename,'num':num,\\\n",
    "                 'mean_precision':np.mean(precisions),\\\n",
    "                 'mean_recall':np.mean(recalls),'AP':np.mean(AP),'overlaps':sum(OverlapS[:,0])/len(recalls)\n",
    "                })"
   ]
  },
  {
   "cell_type": "code",
   "execution_count": 14,
   "metadata": {},
   "outputs": [
    {
     "data": {
      "image/png": "[encoded data removed]",
      "text/plain": [
       "<matplotlib.figure.Figure at 0x7f367120e9e8>"
      ]
     },
     "metadata": {},
     "output_type": "display_data"
    }
   ],
   "source": [
    "from mrcnn1 import visualize\n",
    "\n",
    "visualize.plot_precision_recall(AP, precisions, recalls)"
   ]
  },
  {
   "cell_type": "code",
   "execution_count": null,
   "metadata": {},
   "outputs": [],
   "source": []
  }
 ],
 "metadata": {
  "kernelspec": {
   "display_name": "Python 3",
   "language": "python",
   "name": "python3"
  },
  "language_info": {
   "codemirror_mode": {
    "name": "ipython",
    "version": 3
   },
   "file_extension": ".py",
   "mimetype": "text/x-python",
   "name": "python",
   "nbconvert_exporter": "python",
   "pygments_lexer": "ipython3",
   "version": "3.6.3"
  }
 },
 "nbformat": 4,
 "nbformat_minor": 2
}
