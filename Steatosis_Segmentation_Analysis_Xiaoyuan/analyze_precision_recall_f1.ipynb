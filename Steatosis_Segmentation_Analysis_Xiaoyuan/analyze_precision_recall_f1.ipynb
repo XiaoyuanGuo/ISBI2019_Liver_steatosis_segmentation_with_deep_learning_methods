{
 "cells": [
  {
   "cell_type": "markdown",
   "metadata": {},
   "source": [
    "## Analyze_precision_recall_f1\n",
    "is used to analyze the value of different measurements(precision,recall,f1,jaccard index)for the steatosis segmentation.\n",
    "\n",
    "The input is a .csv file that can be obtained by inspect_steatosis_model_precision_recall.ipynb."
   ]
  },
  {
   "cell_type": "code",
   "execution_count": 1,
   "metadata": {},
   "outputs": [],
   "source": [
    "import csv\n",
    "import numpy as np\n",
    "import pandas as pd"
   ]
  },
  {
   "cell_type": "code",
   "execution_count": 2,
   "metadata": {},
   "outputs": [],
   "source": [
    "#The corresponding csv file saved in the same path\n",
    "filename = 'evaluation_seg_matlab_10_2.csv'"
   ]
  },
  {
   "cell_type": "code",
   "execution_count": 3,
   "metadata": {},
   "outputs": [],
   "source": [
    "#Read the detailed segmentaion statistic data into a panda frame: data\n",
    "data = pd.read_csv(filename) "
   ]
  },
  {
   "cell_type": "code",
   "execution_count": 4,
   "metadata": {},
   "outputs": [
    {
     "data": {
      "text/html": [
       "<div>\n",
       "<style>\n",
       "    .dataframe thead tr:only-child th {\n",
       "        text-align: right;\n",
       "    }\n",
       "\n",
       "    .dataframe thead th {\n",
       "        text-align: left;\n",
       "    }\n",
       "\n",
       "    .dataframe tbody tr th {\n",
       "        vertical-align: top;\n",
       "    }\n",
       "</style>\n",
       "<table border=\"1\" class=\"dataframe\">\n",
       "  <thead>\n",
       "    <tr style=\"text-align: right;\">\n",
       "      <th></th>\n",
       "      <th>image_id</th>\n",
       "      <th>num</th>\n",
       "      <th>mean_precision</th>\n",
       "      <th>mean_recall</th>\n",
       "      <th>AP</th>\n",
       "      <th>overlaps</th>\n",
       "    </tr>\n",
       "  </thead>\n",
       "  <tbody>\n",
       "    <tr>\n",
       "      <th>0</th>\n",
       "      <td>140_29749_11705_1024</td>\n",
       "      <td>18</td>\n",
       "      <td>0.826885</td>\n",
       "      <td>0.237374</td>\n",
       "      <td>0.345509</td>\n",
       "      <td>0.649789</td>\n",
       "    </tr>\n",
       "    <tr>\n",
       "      <th>1</th>\n",
       "      <td>143_23450_40350_1024</td>\n",
       "      <td>60</td>\n",
       "      <td>0.941976</td>\n",
       "      <td>0.383790</td>\n",
       "      <td>0.708549</td>\n",
       "      <td>0.753931</td>\n",
       "    </tr>\n",
       "    <tr>\n",
       "      <th>2</th>\n",
       "      <td>143_42636_31511_1024</td>\n",
       "      <td>57</td>\n",
       "      <td>0.976396</td>\n",
       "      <td>0.454990</td>\n",
       "      <td>0.879881</td>\n",
       "      <td>0.810154</td>\n",
       "    </tr>\n",
       "    <tr>\n",
       "      <th>3</th>\n",
       "      <td>173_14456_12999_2000_976_976</td>\n",
       "      <td>57</td>\n",
       "      <td>0.861306</td>\n",
       "      <td>0.373712</td>\n",
       "      <td>0.614883</td>\n",
       "      <td>0.678585</td>\n",
       "    </tr>\n",
       "    <tr>\n",
       "      <th>4</th>\n",
       "      <td>182_81264_31174_1024</td>\n",
       "      <td>28</td>\n",
       "      <td>0.828853</td>\n",
       "      <td>0.113281</td>\n",
       "      <td>0.141324</td>\n",
       "      <td>0.641581</td>\n",
       "    </tr>\n",
       "  </tbody>\n",
       "</table>\n",
       "</div>"
      ],
      "text/plain": [
       "                       image_id  num  mean_precision  mean_recall        AP  \\\n",
       "0          140_29749_11705_1024   18        0.826885     0.237374  0.345509   \n",
       "1          143_23450_40350_1024   60        0.941976     0.383790  0.708549   \n",
       "2          143_42636_31511_1024   57        0.976396     0.454990  0.879881   \n",
       "3  173_14456_12999_2000_976_976   57        0.861306     0.373712  0.614883   \n",
       "4          182_81264_31174_1024   28        0.828853     0.113281  0.141324   \n",
       "\n",
       "   overlaps  \n",
       "0  0.649789  \n",
       "1  0.753931  \n",
       "2  0.810154  \n",
       "3  0.678585  \n",
       "4  0.641581  "
      ]
     },
     "execution_count": 4,
     "metadata": {},
     "output_type": "execute_result"
    }
   ],
   "source": [
    "#Help visualize the header of the data\n",
    "data.head()"
   ]
  },
  {
   "cell_type": "code",
   "execution_count": 5,
   "metadata": {},
   "outputs": [
    {
     "data": {
      "text/plain": [
       "(0.86373743901966671, 0.010395211085005726)"
      ]
     },
     "execution_count": 5,
     "metadata": {},
     "output_type": "execute_result"
    }
   ],
   "source": [
    "data['mean_precision'].mean(),data['mean_precision'].var()"
   ]
  },
  {
   "cell_type": "code",
   "execution_count": 6,
   "metadata": {},
   "outputs": [
    {
     "data": {
      "text/plain": [
       "(0.31066103871172224, 0.0080254963703931849)"
      ]
     },
     "execution_count": 6,
     "metadata": {},
     "output_type": "execute_result"
    }
   ],
   "source": [
    "data['mean_recall'].mean(),data['mean_recall'].var()"
   ]
  },
  {
   "cell_type": "code",
   "execution_count": 7,
   "metadata": {},
   "outputs": [],
   "source": [
    "F1 = 2 * (data['mean_precision'] * data['mean_recall']) / (data['mean_precision']+ data['mean_recall'])"
   ]
  },
  {
   "cell_type": "code",
   "execution_count": 8,
   "metadata": {},
   "outputs": [
    {
     "data": {
      "text/plain": [
       "(0.45031887180043501, 0.012034868317308704)"
      ]
     },
     "execution_count": 8,
     "metadata": {},
     "output_type": "execute_result"
    }
   ],
   "source": [
    "F1.mean(),F1.var()"
   ]
  },
  {
   "cell_type": "code",
   "execution_count": 9,
   "metadata": {},
   "outputs": [
    {
     "data": {
      "text/plain": [
       "(0.52184288620744446, 0.038601222398349039)"
      ]
     },
     "execution_count": 9,
     "metadata": {},
     "output_type": "execute_result"
    }
   ],
   "source": [
    "#AP: Average precision, especially used in multi-classes segmentation precision analysis\n",
    "data['AP'].mean(),data['AP'].var()"
   ]
  },
  {
   "cell_type": "code",
   "execution_count": 10,
   "metadata": {},
   "outputs": [
    {
     "data": {
      "text/plain": [
       "0.6742297284837222"
      ]
     },
     "execution_count": 10,
     "metadata": {},
     "output_type": "execute_result"
    }
   ],
   "source": [
    "data['overlaps'].mean()"
   ]
  },
  {
   "cell_type": "code",
   "execution_count": null,
   "metadata": {},
   "outputs": [],
   "source": []
  }
 ],
 "metadata": {
  "kernelspec": {
   "display_name": "Python 3",
   "language": "python",
   "name": "python3"
  },
  "language_info": {
   "codemirror_mode": {
    "name": "ipython",
    "version": 3
   },
   "file_extension": ".py",
   "mimetype": "text/x-python",
   "name": "python",
   "nbconvert_exporter": "python",
   "pygments_lexer": "ipython3",
   "version": "3.6.3"
  }
 },
 "nbformat": 4,
 "nbformat_minor": 2
}
